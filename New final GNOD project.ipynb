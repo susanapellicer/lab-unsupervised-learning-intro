{
 "cells": [
  {
   "cell_type": "code",
   "execution_count": 1,
   "id": "5a3d898f",
   "metadata": {},
   "outputs": [],
   "source": [
    "import pandas as pd"
   ]
  },
  {
   "cell_type": "code",
   "execution_count": 2,
   "id": "2928e571",
   "metadata": {},
   "outputs": [],
   "source": [
    "import pickle"
   ]
  },
  {
   "cell_type": "code",
   "execution_count": 3,
   "id": "531e460a",
   "metadata": {},
   "outputs": [],
   "source": [
    "import random"
   ]
  },
  {
   "cell_type": "markdown",
   "id": "76cec669",
   "metadata": {},
   "source": [
    "### Read CSV files"
   ]
  },
  {
   "cell_type": "code",
   "execution_count": 4,
   "id": "99319a53",
   "metadata": {},
   "outputs": [],
   "source": [
    "top100songs = pd.read_csv('top100songs.csv')"
   ]
  },
  {
   "cell_type": "code",
   "execution_count": 40,
   "id": "86c6fb22",
   "metadata": {},
   "outputs": [
    {
     "data": {
      "text/html": [
       "<div>\n",
       "<style scoped>\n",
       "    .dataframe tbody tr th:only-of-type {\n",
       "        vertical-align: middle;\n",
       "    }\n",
       "\n",
       "    .dataframe tbody tr th {\n",
       "        vertical-align: top;\n",
       "    }\n",
       "\n",
       "    .dataframe thead th {\n",
       "        text-align: right;\n",
       "    }\n",
       "</style>\n",
       "<table border=\"1\" class=\"dataframe\">\n",
       "  <thead>\n",
       "    <tr style=\"text-align: right;\">\n",
       "      <th></th>\n",
       "      <th>title</th>\n",
       "      <th>artist</th>\n",
       "    </tr>\n",
       "  </thead>\n",
       "  <tbody>\n",
       "    <tr>\n",
       "      <th>0</th>\n",
       "      <td>81 Million Votes, My Ass</td>\n",
       "      <td>The Truth Bombers &amp; Kari Lake</td>\n",
       "    </tr>\n",
       "    <tr>\n",
       "      <th>1</th>\n",
       "      <td>Fast Car</td>\n",
       "      <td>Luke Combs</td>\n",
       "    </tr>\n",
       "    <tr>\n",
       "      <th>2</th>\n",
       "      <td>Last Night</td>\n",
       "      <td>Morgan Wallen</td>\n",
       "    </tr>\n",
       "    <tr>\n",
       "      <th>3</th>\n",
       "      <td>Take Two</td>\n",
       "      <td>BTS</td>\n",
       "    </tr>\n",
       "    <tr>\n",
       "      <th>4</th>\n",
       "      <td>Need A Favor</td>\n",
       "      <td>Jelly Roll</td>\n",
       "    </tr>\n",
       "    <tr>\n",
       "      <th>...</th>\n",
       "      <td>...</td>\n",
       "      <td>...</td>\n",
       "    </tr>\n",
       "    <tr>\n",
       "      <th>94</th>\n",
       "      <td>Praise (feat. Brandon Lake, Chris Brown &amp; Chan...</td>\n",
       "      <td>Elevation Worship</td>\n",
       "    </tr>\n",
       "    <tr>\n",
       "      <th>95</th>\n",
       "      <td>Perfect</td>\n",
       "      <td>Ed Sheeran</td>\n",
       "    </tr>\n",
       "    <tr>\n",
       "      <th>96</th>\n",
       "      <td>Cowgirls (feat. ERNEST)</td>\n",
       "      <td>Morgan Wallen</td>\n",
       "    </tr>\n",
       "    <tr>\n",
       "      <th>97</th>\n",
       "      <td>A Symptom Of Being Human</td>\n",
       "      <td>Shinedown</td>\n",
       "    </tr>\n",
       "    <tr>\n",
       "      <th>98</th>\n",
       "      <td>PLEBADA</td>\n",
       "      <td>El Alfa &amp; Peso Pluma</td>\n",
       "    </tr>\n",
       "  </tbody>\n",
       "</table>\n",
       "<p>99 rows × 2 columns</p>\n",
       "</div>"
      ],
      "text/plain": [
       "                                                title  \\\n",
       "0                            81 Million Votes, My Ass   \n",
       "1                                            Fast Car   \n",
       "2                                          Last Night   \n",
       "3                                            Take Two   \n",
       "4                                        Need A Favor   \n",
       "..                                                ...   \n",
       "94  Praise (feat. Brandon Lake, Chris Brown & Chan...   \n",
       "95                                            Perfect   \n",
       "96                            Cowgirls (feat. ERNEST)   \n",
       "97                           A Symptom Of Being Human   \n",
       "98                                            PLEBADA   \n",
       "\n",
       "                           artist  \n",
       "0   The Truth Bombers & Kari Lake  \n",
       "1                      Luke Combs  \n",
       "2                   Morgan Wallen  \n",
       "3                             BTS  \n",
       "4                      Jelly Roll  \n",
       "..                            ...  \n",
       "94              Elevation Worship  \n",
       "95                     Ed Sheeran  \n",
       "96                  Morgan Wallen  \n",
       "97                      Shinedown  \n",
       "98           El Alfa & Peso Pluma  \n",
       "\n",
       "[99 rows x 2 columns]"
      ]
     },
     "execution_count": 40,
     "metadata": {},
     "output_type": "execute_result"
    }
   ],
   "source": [
    "top100songs"
   ]
  },
  {
   "cell_type": "code",
   "execution_count": 5,
   "id": "5d29a112",
   "metadata": {},
   "outputs": [],
   "source": [
    "playlist_final = pd.read_csv('playlist_final.csv')"
   ]
  },
  {
   "cell_type": "code",
   "execution_count": 74,
   "id": "54b16152",
   "metadata": {},
   "outputs": [
    {
     "data": {
      "text/html": [
       "<div>\n",
       "<style scoped>\n",
       "    .dataframe tbody tr th:only-of-type {\n",
       "        vertical-align: middle;\n",
       "    }\n",
       "\n",
       "    .dataframe tbody tr th {\n",
       "        vertical-align: top;\n",
       "    }\n",
       "\n",
       "    .dataframe thead th {\n",
       "        text-align: right;\n",
       "    }\n",
       "</style>\n",
       "<table border=\"1\" class=\"dataframe\">\n",
       "  <thead>\n",
       "    <tr style=\"text-align: right;\">\n",
       "      <th></th>\n",
       "      <th>Unnamed: 0</th>\n",
       "      <th>name</th>\n",
       "      <th>artist</th>\n",
       "      <th>cluster</th>\n",
       "    </tr>\n",
       "  </thead>\n",
       "  <tbody>\n",
       "    <tr>\n",
       "      <th>0</th>\n",
       "      <td>0</td>\n",
       "      <td>This Magic Moment - Crisp.nl Version</td>\n",
       "      <td>MassiveMusic</td>\n",
       "      <td>1</td>\n",
       "    </tr>\n",
       "    <tr>\n",
       "      <th>1</th>\n",
       "      <td>1</td>\n",
       "      <td>00h00</td>\n",
       "      <td>Hoosky</td>\n",
       "      <td>9</td>\n",
       "    </tr>\n",
       "    <tr>\n",
       "      <th>2</th>\n",
       "      <td>2</td>\n",
       "      <td>Under My Thumb</td>\n",
       "      <td>The Rolling Stones</td>\n",
       "      <td>6</td>\n",
       "    </tr>\n",
       "    <tr>\n",
       "      <th>3</th>\n",
       "      <td>3</td>\n",
       "      <td>Conquer Me</td>\n",
       "      <td>Jane B</td>\n",
       "      <td>8</td>\n",
       "    </tr>\n",
       "    <tr>\n",
       "      <th>4</th>\n",
       "      <td>4</td>\n",
       "      <td>Dapper (feat. Anderson .Paak)</td>\n",
       "      <td>Domo Genesis</td>\n",
       "      <td>9</td>\n",
       "    </tr>\n",
       "    <tr>\n",
       "      <th>...</th>\n",
       "      <td>...</td>\n",
       "      <td>...</td>\n",
       "      <td>...</td>\n",
       "      <td>...</td>\n",
       "    </tr>\n",
       "    <tr>\n",
       "      <th>9995</th>\n",
       "      <td>9995</td>\n",
       "      <td>Lijay</td>\n",
       "      <td>Mulatu Astatke</td>\n",
       "      <td>3</td>\n",
       "    </tr>\n",
       "    <tr>\n",
       "      <th>9996</th>\n",
       "      <td>9996</td>\n",
       "      <td>Pretty Nice Life (feat. Tiken Jah Fakoly)</td>\n",
       "      <td>M.I.L.K.</td>\n",
       "      <td>3</td>\n",
       "    </tr>\n",
       "    <tr>\n",
       "      <th>9997</th>\n",
       "      <td>9997</td>\n",
       "      <td>Take It Slow - Mousse T. Remix</td>\n",
       "      <td>Boozoo Bajou</td>\n",
       "      <td>6</td>\n",
       "    </tr>\n",
       "    <tr>\n",
       "      <th>9998</th>\n",
       "      <td>9998</td>\n",
       "      <td>Birds of a Feather</td>\n",
       "      <td>Mocky</td>\n",
       "      <td>2</td>\n",
       "    </tr>\n",
       "    <tr>\n",
       "      <th>9999</th>\n",
       "      <td>9999</td>\n",
       "      <td>Freeway (2006)</td>\n",
       "      <td>Earl Elliot</td>\n",
       "      <td>4</td>\n",
       "    </tr>\n",
       "  </tbody>\n",
       "</table>\n",
       "<p>10000 rows × 4 columns</p>\n",
       "</div>"
      ],
      "text/plain": [
       "      Unnamed: 0                                       name  \\\n",
       "0              0       This Magic Moment - Crisp.nl Version   \n",
       "1              1                                      00h00   \n",
       "2              2                             Under My Thumb   \n",
       "3              3                                 Conquer Me   \n",
       "4              4              Dapper (feat. Anderson .Paak)   \n",
       "...          ...                                        ...   \n",
       "9995        9995                                      Lijay   \n",
       "9996        9996  Pretty Nice Life (feat. Tiken Jah Fakoly)   \n",
       "9997        9997             Take It Slow - Mousse T. Remix   \n",
       "9998        9998                         Birds of a Feather   \n",
       "9999        9999                             Freeway (2006)   \n",
       "\n",
       "                  artist  cluster  \n",
       "0           MassiveMusic        1  \n",
       "1                 Hoosky        9  \n",
       "2     The Rolling Stones        6  \n",
       "3                 Jane B        8  \n",
       "4           Domo Genesis        9  \n",
       "...                  ...      ...  \n",
       "9995      Mulatu Astatke        3  \n",
       "9996            M.I.L.K.        3  \n",
       "9997        Boozoo Bajou        6  \n",
       "9998               Mocky        2  \n",
       "9999         Earl Elliot        4  \n",
       "\n",
       "[10000 rows x 4 columns]"
      ]
     },
     "execution_count": 74,
     "metadata": {},
     "output_type": "execute_result"
    }
   ],
   "source": [
    "playlist_final"
   ]
  },
  {
   "cell_type": "markdown",
   "id": "a2301116",
   "metadata": {},
   "source": [
    "### Read pickle: kmeans and scaler"
   ]
  },
  {
   "cell_type": "code",
   "execution_count": 7,
   "id": "e5451b4d",
   "metadata": {},
   "outputs": [],
   "source": [
    "scaler = pickle.load(open('scaler.pkl','rb'))\n",
    "kmeans = pickle.load(open('kmeans.pkl','rb'))\n"
   ]
  },
  {
   "cell_type": "code",
   "execution_count": 8,
   "id": "c765ba84",
   "metadata": {},
   "outputs": [
    {
     "data": {
      "text/html": [
       "<style>#sk-container-id-1 {color: black;background-color: white;}#sk-container-id-1 pre{padding: 0;}#sk-container-id-1 div.sk-toggleable {background-color: white;}#sk-container-id-1 label.sk-toggleable__label {cursor: pointer;display: block;width: 100%;margin-bottom: 0;padding: 0.3em;box-sizing: border-box;text-align: center;}#sk-container-id-1 label.sk-toggleable__label-arrow:before {content: \"▸\";float: left;margin-right: 0.25em;color: #696969;}#sk-container-id-1 label.sk-toggleable__label-arrow:hover:before {color: black;}#sk-container-id-1 div.sk-estimator:hover label.sk-toggleable__label-arrow:before {color: black;}#sk-container-id-1 div.sk-toggleable__content {max-height: 0;max-width: 0;overflow: hidden;text-align: left;background-color: #f0f8ff;}#sk-container-id-1 div.sk-toggleable__content pre {margin: 0.2em;color: black;border-radius: 0.25em;background-color: #f0f8ff;}#sk-container-id-1 input.sk-toggleable__control:checked~div.sk-toggleable__content {max-height: 200px;max-width: 100%;overflow: auto;}#sk-container-id-1 input.sk-toggleable__control:checked~label.sk-toggleable__label-arrow:before {content: \"▾\";}#sk-container-id-1 div.sk-estimator input.sk-toggleable__control:checked~label.sk-toggleable__label {background-color: #d4ebff;}#sk-container-id-1 div.sk-label input.sk-toggleable__control:checked~label.sk-toggleable__label {background-color: #d4ebff;}#sk-container-id-1 input.sk-hidden--visually {border: 0;clip: rect(1px 1px 1px 1px);clip: rect(1px, 1px, 1px, 1px);height: 1px;margin: -1px;overflow: hidden;padding: 0;position: absolute;width: 1px;}#sk-container-id-1 div.sk-estimator {font-family: monospace;background-color: #f0f8ff;border: 1px dotted black;border-radius: 0.25em;box-sizing: border-box;margin-bottom: 0.5em;}#sk-container-id-1 div.sk-estimator:hover {background-color: #d4ebff;}#sk-container-id-1 div.sk-parallel-item::after {content: \"\";width: 100%;border-bottom: 1px solid gray;flex-grow: 1;}#sk-container-id-1 div.sk-label:hover label.sk-toggleable__label {background-color: #d4ebff;}#sk-container-id-1 div.sk-serial::before {content: \"\";position: absolute;border-left: 1px solid gray;box-sizing: border-box;top: 0;bottom: 0;left: 50%;z-index: 0;}#sk-container-id-1 div.sk-serial {display: flex;flex-direction: column;align-items: center;background-color: white;padding-right: 0.2em;padding-left: 0.2em;position: relative;}#sk-container-id-1 div.sk-item {position: relative;z-index: 1;}#sk-container-id-1 div.sk-parallel {display: flex;align-items: stretch;justify-content: center;background-color: white;position: relative;}#sk-container-id-1 div.sk-item::before, #sk-container-id-1 div.sk-parallel-item::before {content: \"\";position: absolute;border-left: 1px solid gray;box-sizing: border-box;top: 0;bottom: 0;left: 50%;z-index: -1;}#sk-container-id-1 div.sk-parallel-item {display: flex;flex-direction: column;z-index: 1;position: relative;background-color: white;}#sk-container-id-1 div.sk-parallel-item:first-child::after {align-self: flex-end;width: 50%;}#sk-container-id-1 div.sk-parallel-item:last-child::after {align-self: flex-start;width: 50%;}#sk-container-id-1 div.sk-parallel-item:only-child::after {width: 0;}#sk-container-id-1 div.sk-dashed-wrapped {border: 1px dashed gray;margin: 0 0.4em 0.5em 0.4em;box-sizing: border-box;padding-bottom: 0.4em;background-color: white;}#sk-container-id-1 div.sk-label label {font-family: monospace;font-weight: bold;display: inline-block;line-height: 1.2em;}#sk-container-id-1 div.sk-label-container {text-align: center;}#sk-container-id-1 div.sk-container {/* jupyter's `normalize.less` sets `[hidden] { display: none; }` but bootstrap.min.css set `[hidden] { display: none !important; }` so we also need the `!important` here to be able to override the default hidden behavior on the sphinx rendered scikit-learn.org. See: https://github.com/scikit-learn/scikit-learn/issues/21755 */display: inline-block !important;position: relative;}#sk-container-id-1 div.sk-text-repr-fallback {display: none;}</style><div id=\"sk-container-id-1\" class=\"sk-top-container\"><div class=\"sk-text-repr-fallback\"><pre>KMeans(n_clusters=11, random_state=1234)</pre><b>In a Jupyter environment, please rerun this cell to show the HTML representation or trust the notebook. <br />On GitHub, the HTML representation is unable to render, please try loading this page with nbviewer.org.</b></div><div class=\"sk-container\" hidden><div class=\"sk-item\"><div class=\"sk-estimator sk-toggleable\"><input class=\"sk-toggleable__control sk-hidden--visually\" id=\"sk-estimator-id-1\" type=\"checkbox\" checked><label for=\"sk-estimator-id-1\" class=\"sk-toggleable__label sk-toggleable__label-arrow\">KMeans</label><div class=\"sk-toggleable__content\"><pre>KMeans(n_clusters=11, random_state=1234)</pre></div></div></div></div></div>"
      ],
      "text/plain": [
       "KMeans(n_clusters=11, random_state=1234)"
      ]
     },
     "execution_count": 8,
     "metadata": {},
     "output_type": "execute_result"
    }
   ],
   "source": [
    "kmeans"
   ]
  },
  {
   "cell_type": "code",
   "execution_count": 9,
   "id": "bc54527e",
   "metadata": {},
   "outputs": [
    {
     "data": {
      "text/html": [
       "<style>#sk-container-id-2 {color: black;background-color: white;}#sk-container-id-2 pre{padding: 0;}#sk-container-id-2 div.sk-toggleable {background-color: white;}#sk-container-id-2 label.sk-toggleable__label {cursor: pointer;display: block;width: 100%;margin-bottom: 0;padding: 0.3em;box-sizing: border-box;text-align: center;}#sk-container-id-2 label.sk-toggleable__label-arrow:before {content: \"▸\";float: left;margin-right: 0.25em;color: #696969;}#sk-container-id-2 label.sk-toggleable__label-arrow:hover:before {color: black;}#sk-container-id-2 div.sk-estimator:hover label.sk-toggleable__label-arrow:before {color: black;}#sk-container-id-2 div.sk-toggleable__content {max-height: 0;max-width: 0;overflow: hidden;text-align: left;background-color: #f0f8ff;}#sk-container-id-2 div.sk-toggleable__content pre {margin: 0.2em;color: black;border-radius: 0.25em;background-color: #f0f8ff;}#sk-container-id-2 input.sk-toggleable__control:checked~div.sk-toggleable__content {max-height: 200px;max-width: 100%;overflow: auto;}#sk-container-id-2 input.sk-toggleable__control:checked~label.sk-toggleable__label-arrow:before {content: \"▾\";}#sk-container-id-2 div.sk-estimator input.sk-toggleable__control:checked~label.sk-toggleable__label {background-color: #d4ebff;}#sk-container-id-2 div.sk-label input.sk-toggleable__control:checked~label.sk-toggleable__label {background-color: #d4ebff;}#sk-container-id-2 input.sk-hidden--visually {border: 0;clip: rect(1px 1px 1px 1px);clip: rect(1px, 1px, 1px, 1px);height: 1px;margin: -1px;overflow: hidden;padding: 0;position: absolute;width: 1px;}#sk-container-id-2 div.sk-estimator {font-family: monospace;background-color: #f0f8ff;border: 1px dotted black;border-radius: 0.25em;box-sizing: border-box;margin-bottom: 0.5em;}#sk-container-id-2 div.sk-estimator:hover {background-color: #d4ebff;}#sk-container-id-2 div.sk-parallel-item::after {content: \"\";width: 100%;border-bottom: 1px solid gray;flex-grow: 1;}#sk-container-id-2 div.sk-label:hover label.sk-toggleable__label {background-color: #d4ebff;}#sk-container-id-2 div.sk-serial::before {content: \"\";position: absolute;border-left: 1px solid gray;box-sizing: border-box;top: 0;bottom: 0;left: 50%;z-index: 0;}#sk-container-id-2 div.sk-serial {display: flex;flex-direction: column;align-items: center;background-color: white;padding-right: 0.2em;padding-left: 0.2em;position: relative;}#sk-container-id-2 div.sk-item {position: relative;z-index: 1;}#sk-container-id-2 div.sk-parallel {display: flex;align-items: stretch;justify-content: center;background-color: white;position: relative;}#sk-container-id-2 div.sk-item::before, #sk-container-id-2 div.sk-parallel-item::before {content: \"\";position: absolute;border-left: 1px solid gray;box-sizing: border-box;top: 0;bottom: 0;left: 50%;z-index: -1;}#sk-container-id-2 div.sk-parallel-item {display: flex;flex-direction: column;z-index: 1;position: relative;background-color: white;}#sk-container-id-2 div.sk-parallel-item:first-child::after {align-self: flex-end;width: 50%;}#sk-container-id-2 div.sk-parallel-item:last-child::after {align-self: flex-start;width: 50%;}#sk-container-id-2 div.sk-parallel-item:only-child::after {width: 0;}#sk-container-id-2 div.sk-dashed-wrapped {border: 1px dashed gray;margin: 0 0.4em 0.5em 0.4em;box-sizing: border-box;padding-bottom: 0.4em;background-color: white;}#sk-container-id-2 div.sk-label label {font-family: monospace;font-weight: bold;display: inline-block;line-height: 1.2em;}#sk-container-id-2 div.sk-label-container {text-align: center;}#sk-container-id-2 div.sk-container {/* jupyter's `normalize.less` sets `[hidden] { display: none; }` but bootstrap.min.css set `[hidden] { display: none !important; }` so we also need the `!important` here to be able to override the default hidden behavior on the sphinx rendered scikit-learn.org. See: https://github.com/scikit-learn/scikit-learn/issues/21755 */display: inline-block !important;position: relative;}#sk-container-id-2 div.sk-text-repr-fallback {display: none;}</style><div id=\"sk-container-id-2\" class=\"sk-top-container\"><div class=\"sk-text-repr-fallback\"><pre>StandardScaler()</pre><b>In a Jupyter environment, please rerun this cell to show the HTML representation or trust the notebook. <br />On GitHub, the HTML representation is unable to render, please try loading this page with nbviewer.org.</b></div><div class=\"sk-container\" hidden><div class=\"sk-item\"><div class=\"sk-estimator sk-toggleable\"><input class=\"sk-toggleable__control sk-hidden--visually\" id=\"sk-estimator-id-2\" type=\"checkbox\" checked><label for=\"sk-estimator-id-2\" class=\"sk-toggleable__label sk-toggleable__label-arrow\">StandardScaler</label><div class=\"sk-toggleable__content\"><pre>StandardScaler()</pre></div></div></div></div></div>"
      ],
      "text/plain": [
       "StandardScaler()"
      ]
     },
     "execution_count": 9,
     "metadata": {},
     "output_type": "execute_result"
    }
   ],
   "source": [
    "scaler"
   ]
  },
  {
   "cell_type": "markdown",
   "id": "79dea2e6",
   "metadata": {},
   "source": [
    "### Connection to Spotify"
   ]
  },
  {
   "cell_type": "code",
   "execution_count": 10,
   "id": "e67b58a3",
   "metadata": {},
   "outputs": [],
   "source": [
    "import spotipy\n",
    "from spotipy.oauth2 import SpotifyClientCredentials\n",
    "\n",
    "secrets_file = open(\"secrets.txt\",\"r\")\n",
    "\n",
    "string = secrets_file.read()\n",
    "\n",
    "secrets_dict={}\n",
    "for line in string.split('\\n'):\n",
    "    if len(line) > 0:\n",
    "        secrets_dict[line.split(':')[0]]=line.split(':')[1].strip()\n",
    "\n",
    "\n",
    "\n"
   ]
  },
  {
   "cell_type": "markdown",
   "id": "4f5fbb55",
   "metadata": {},
   "source": [
    "### Authentication"
   ]
  },
  {
   "cell_type": "code",
   "execution_count": 11,
   "id": "29cd25fb",
   "metadata": {},
   "outputs": [],
   "source": [
    "sp = spotipy.Spotify(auth_manager=SpotifyClientCredentials(client_id=secrets_dict['ClientID'],\n",
    "                                                           client_secret=secrets_dict['ClientSecret'])) "
   ]
  },
  {
   "cell_type": "code",
   "execution_count": 12,
   "id": "23fba401",
   "metadata": {
    "scrolled": true
   },
   "outputs": [
    {
     "name": "stdout",
     "output_type": "stream",
     "text": [
      "Enter a song name: Fast Car\n"
     ]
    }
   ],
   "source": [
    "song = input(\"Enter a song name: \")\n",
    "is_song_in_list = playlist_final['name'].isin([song]).any()\n",
    "client_id=secrets_dict['ClientID']\n",
    "client_secret=secrets_dict['ClientSecret']\n",
    "sp = spotipy.Spotify(auth_manager=SpotifyClientCredentials(client_id=secrets_dict['ClientID'],\n",
    "                                                           client_secret=secrets_dict['ClientSecret'])) \n",
    "\n",
    "song = sp.search(q=song, type='track', limit=1)\n",
    "uri = song['tracks']['items'][0]['uri']\n",
    "audio_features = sp.audio_features(uri)\n"
   ]
  },
  {
   "cell_type": "code",
   "execution_count": 13,
   "id": "74a77a46",
   "metadata": {},
   "outputs": [
    {
     "data": {
      "text/plain": [
       "[{'danceability': 0.712,\n",
       "  'energy': 0.603,\n",
       "  'key': 8,\n",
       "  'loudness': -5.52,\n",
       "  'mode': 1,\n",
       "  'speechiness': 0.0262,\n",
       "  'acousticness': 0.186,\n",
       "  'instrumentalness': 0,\n",
       "  'liveness': 0.115,\n",
       "  'valence': 0.67,\n",
       "  'tempo': 97.994,\n",
       "  'type': 'audio_features',\n",
       "  'id': '1Lo0QY9cvc8sUB2vnIOxDT',\n",
       "  'uri': 'spotify:track:1Lo0QY9cvc8sUB2vnIOxDT',\n",
       "  'track_href': 'https://api.spotify.com/v1/tracks/1Lo0QY9cvc8sUB2vnIOxDT',\n",
       "  'analysis_url': 'https://api.spotify.com/v1/audio-analysis/1Lo0QY9cvc8sUB2vnIOxDT',\n",
       "  'duration_ms': 265493,\n",
       "  'time_signature': 4}]"
      ]
     },
     "execution_count": 13,
     "metadata": {},
     "output_type": "execute_result"
    }
   ],
   "source": [
    "audio_features"
   ]
  },
  {
   "cell_type": "code",
   "execution_count": 14,
   "id": "4e439c9f",
   "metadata": {},
   "outputs": [],
   "source": [
    "audio_features_df = pd.DataFrame(audio_features, index=[0])"
   ]
  },
  {
   "cell_type": "code",
   "execution_count": 15,
   "id": "cef76909",
   "metadata": {
    "scrolled": true
   },
   "outputs": [
    {
     "data": {
      "text/html": [
       "<div>\n",
       "<style scoped>\n",
       "    .dataframe tbody tr th:only-of-type {\n",
       "        vertical-align: middle;\n",
       "    }\n",
       "\n",
       "    .dataframe tbody tr th {\n",
       "        vertical-align: top;\n",
       "    }\n",
       "\n",
       "    .dataframe thead th {\n",
       "        text-align: right;\n",
       "    }\n",
       "</style>\n",
       "<table border=\"1\" class=\"dataframe\">\n",
       "  <thead>\n",
       "    <tr style=\"text-align: right;\">\n",
       "      <th></th>\n",
       "      <th>danceability</th>\n",
       "      <th>energy</th>\n",
       "      <th>key</th>\n",
       "      <th>loudness</th>\n",
       "      <th>mode</th>\n",
       "      <th>speechiness</th>\n",
       "      <th>acousticness</th>\n",
       "      <th>instrumentalness</th>\n",
       "      <th>liveness</th>\n",
       "      <th>valence</th>\n",
       "      <th>tempo</th>\n",
       "      <th>type</th>\n",
       "      <th>id</th>\n",
       "      <th>uri</th>\n",
       "      <th>track_href</th>\n",
       "      <th>analysis_url</th>\n",
       "      <th>duration_ms</th>\n",
       "      <th>time_signature</th>\n",
       "    </tr>\n",
       "  </thead>\n",
       "  <tbody>\n",
       "    <tr>\n",
       "      <th>0</th>\n",
       "      <td>0.712</td>\n",
       "      <td>0.603</td>\n",
       "      <td>8</td>\n",
       "      <td>-5.52</td>\n",
       "      <td>1</td>\n",
       "      <td>0.0262</td>\n",
       "      <td>0.186</td>\n",
       "      <td>0</td>\n",
       "      <td>0.115</td>\n",
       "      <td>0.67</td>\n",
       "      <td>97.994</td>\n",
       "      <td>audio_features</td>\n",
       "      <td>1Lo0QY9cvc8sUB2vnIOxDT</td>\n",
       "      <td>spotify:track:1Lo0QY9cvc8sUB2vnIOxDT</td>\n",
       "      <td>https://api.spotify.com/v1/tracks/1Lo0QY9cvc8s...</td>\n",
       "      <td>https://api.spotify.com/v1/audio-analysis/1Lo0...</td>\n",
       "      <td>265493</td>\n",
       "      <td>4</td>\n",
       "    </tr>\n",
       "  </tbody>\n",
       "</table>\n",
       "</div>"
      ],
      "text/plain": [
       "   danceability  energy  key  loudness  mode  speechiness  acousticness  \\\n",
       "0         0.712   0.603    8     -5.52     1       0.0262         0.186   \n",
       "\n",
       "   instrumentalness  liveness  valence   tempo            type  \\\n",
       "0                 0     0.115     0.67  97.994  audio_features   \n",
       "\n",
       "                       id                                   uri  \\\n",
       "0  1Lo0QY9cvc8sUB2vnIOxDT  spotify:track:1Lo0QY9cvc8sUB2vnIOxDT   \n",
       "\n",
       "                                          track_href  \\\n",
       "0  https://api.spotify.com/v1/tracks/1Lo0QY9cvc8s...   \n",
       "\n",
       "                                        analysis_url  duration_ms  \\\n",
       "0  https://api.spotify.com/v1/audio-analysis/1Lo0...       265493   \n",
       "\n",
       "   time_signature  \n",
       "0               4  "
      ]
     },
     "execution_count": 15,
     "metadata": {},
     "output_type": "execute_result"
    }
   ],
   "source": [
    "audio_features_df"
   ]
  },
  {
   "cell_type": "code",
   "execution_count": 16,
   "id": "10fb3e3b",
   "metadata": {},
   "outputs": [],
   "source": [
    "selected_columns = ['danceability', 'energy', 'loudness', 'speechiness', 'acousticness', 'instrumentalness', 'liveness', 'valence', 'tempo', 'duration_ms', 'time_signature']\n",
    "audio_song = audio_features_df[selected_columns]"
   ]
  },
  {
   "cell_type": "code",
   "execution_count": 17,
   "id": "e015aeaf",
   "metadata": {},
   "outputs": [
    {
     "data": {
      "text/html": [
       "<div>\n",
       "<style scoped>\n",
       "    .dataframe tbody tr th:only-of-type {\n",
       "        vertical-align: middle;\n",
       "    }\n",
       "\n",
       "    .dataframe tbody tr th {\n",
       "        vertical-align: top;\n",
       "    }\n",
       "\n",
       "    .dataframe thead th {\n",
       "        text-align: right;\n",
       "    }\n",
       "</style>\n",
       "<table border=\"1\" class=\"dataframe\">\n",
       "  <thead>\n",
       "    <tr style=\"text-align: right;\">\n",
       "      <th></th>\n",
       "      <th>danceability</th>\n",
       "      <th>energy</th>\n",
       "      <th>loudness</th>\n",
       "      <th>speechiness</th>\n",
       "      <th>acousticness</th>\n",
       "      <th>instrumentalness</th>\n",
       "      <th>liveness</th>\n",
       "      <th>valence</th>\n",
       "      <th>tempo</th>\n",
       "      <th>duration_ms</th>\n",
       "      <th>time_signature</th>\n",
       "    </tr>\n",
       "  </thead>\n",
       "  <tbody>\n",
       "    <tr>\n",
       "      <th>0</th>\n",
       "      <td>0.712</td>\n",
       "      <td>0.603</td>\n",
       "      <td>-5.52</td>\n",
       "      <td>0.0262</td>\n",
       "      <td>0.186</td>\n",
       "      <td>0</td>\n",
       "      <td>0.115</td>\n",
       "      <td>0.67</td>\n",
       "      <td>97.994</td>\n",
       "      <td>265493</td>\n",
       "      <td>4</td>\n",
       "    </tr>\n",
       "  </tbody>\n",
       "</table>\n",
       "</div>"
      ],
      "text/plain": [
       "   danceability  energy  loudness  speechiness  acousticness  \\\n",
       "0         0.712   0.603     -5.52       0.0262         0.186   \n",
       "\n",
       "   instrumentalness  liveness  valence   tempo  duration_ms  time_signature  \n",
       "0                 0     0.115     0.67  97.994       265493               4  "
      ]
     },
     "execution_count": 17,
     "metadata": {},
     "output_type": "execute_result"
    }
   ],
   "source": [
    "audio_song"
   ]
  },
  {
   "cell_type": "code",
   "execution_count": 76,
   "id": "75ee613f",
   "metadata": {},
   "outputs": [],
   "source": [
    "audio_song = scaler.transform(audio_song)"
   ]
  },
  {
   "cell_type": "code",
   "execution_count": 77,
   "id": "705ebad6",
   "metadata": {},
   "outputs": [
    {
     "data": {
      "text/plain": [
       "array([[ 0.33078858,  0.27364557,  1.10973632, -0.66986363, -0.55821855,\n",
       "        -0.52810147, -0.37413214,  0.28777409, -0.64499196,  0.35414854,\n",
       "         0.18720746]])"
      ]
     },
     "execution_count": 77,
     "metadata": {},
     "output_type": "execute_result"
    }
   ],
   "source": [
    "audio_song"
   ]
  },
  {
   "cell_type": "code",
   "execution_count": 78,
   "id": "98d1e4d8",
   "metadata": {
    "scrolled": true
   },
   "outputs": [],
   "source": [
    "cluster_number = kmeans.predict(audio_song)"
   ]
  },
  {
   "cell_type": "code",
   "execution_count": 79,
   "id": "a52e74ae",
   "metadata": {},
   "outputs": [
    {
     "data": {
      "text/plain": [
       "1"
      ]
     },
     "execution_count": 79,
     "metadata": {},
     "output_type": "execute_result"
    }
   ],
   "source": [
    "list(cluster_number)[0]"
   ]
  },
  {
   "cell_type": "code",
   "execution_count": 80,
   "id": "263a64f3",
   "metadata": {},
   "outputs": [],
   "source": [
    "recommend_cluster = playlist_final[playlist_final['cluster']== list(cluster_number)[0]]"
   ]
  },
  {
   "cell_type": "code",
   "execution_count": 81,
   "id": "98aec25b",
   "metadata": {},
   "outputs": [
    {
     "data": {
      "text/plain": [
       "0       This Magic Moment - Crisp.nl Version\n",
       "5                             Water Fountain\n",
       "12                       Somebody to Love Me\n",
       "25           Jackson (with June Carter Cash)\n",
       "31                            Can't Stop Now\n",
       "                        ...                 \n",
       "9941                             Congo Bongo\n",
       "9949                              Lovely Day\n",
       "9952                                 Nga Nga\n",
       "9972                                 Kilario\n",
       "9979                             Night Fever\n",
       "Name: name, Length: 1678, dtype: object"
      ]
     },
     "execution_count": 81,
     "metadata": {},
     "output_type": "execute_result"
    }
   ],
   "source": [
    "recommend_cluster['name']"
   ]
  },
  {
   "cell_type": "code",
   "execution_count": 82,
   "id": "78dc7d99",
   "metadata": {
    "scrolled": true
   },
   "outputs": [
    {
     "data": {
      "text/html": [
       "<div>\n",
       "<style scoped>\n",
       "    .dataframe tbody tr th:only-of-type {\n",
       "        vertical-align: middle;\n",
       "    }\n",
       "\n",
       "    .dataframe tbody tr th {\n",
       "        vertical-align: top;\n",
       "    }\n",
       "\n",
       "    .dataframe thead th {\n",
       "        text-align: right;\n",
       "    }\n",
       "</style>\n",
       "<table border=\"1\" class=\"dataframe\">\n",
       "  <thead>\n",
       "    <tr style=\"text-align: right;\">\n",
       "      <th></th>\n",
       "      <th>Unnamed: 0</th>\n",
       "      <th>name</th>\n",
       "      <th>artist</th>\n",
       "      <th>cluster</th>\n",
       "    </tr>\n",
       "  </thead>\n",
       "  <tbody>\n",
       "    <tr>\n",
       "      <th>4112</th>\n",
       "      <td>4112</td>\n",
       "      <td>I Got You Babe</td>\n",
       "      <td>Bahamas</td>\n",
       "      <td>1</td>\n",
       "    </tr>\n",
       "  </tbody>\n",
       "</table>\n",
       "</div>"
      ],
      "text/plain": [
       "      Unnamed: 0            name   artist  cluster\n",
       "4112        4112  I Got You Babe  Bahamas        1"
      ]
     },
     "execution_count": 82,
     "metadata": {},
     "output_type": "execute_result"
    }
   ],
   "source": [
    "recommend_cluster.sample()"
   ]
  },
  {
   "cell_type": "code",
   "execution_count": 88,
   "id": "b5200c1d",
   "metadata": {},
   "outputs": [],
   "source": [
    "def recommend_song():\n",
    "    song = input(\"Enter a song name: \")\n",
    "    #is_song_in_list = playlist_final['name'].isin([song]).any()\n",
    "    client_id=secrets_dict['ClientID']\n",
    "    client_secret=secrets_dict['ClientSecret']\n",
    "    sp = spotipy.Spotify(auth_manager=SpotifyClientCredentials(client_id=secrets_dict['ClientID'],\n",
    "                                                           client_secret=secrets_dict['ClientSecret'])) \n",
    "    if song in list(top100songs['title']):\n",
    "        recommended_song = top100songs.sample(n=1)['title'].values[0]\n",
    "        print(\"Your song is in the Top 100 list!\")\n",
    "        print(\"Here's another recommended song:\", recommended_song)\n",
    "    \n",
    "    else:\n",
    "        song = sp.search(q=song, type='track', limit=1)\n",
    "        uri = song['tracks']['items'][0]['uri']\n",
    "        audio_features = sp.audio_features(uri)\n",
    "        audio_features_df = pd.DataFrame(audio_features, index=[0])\n",
    "        selected_columns = ['danceability', 'energy', 'loudness', 'speechiness', 'acousticness', 'instrumentalness', 'liveness', 'valence', 'tempo', 'duration_ms', 'time_signature']\n",
    "        audio_song = audio_features_df[selected_columns]\n",
    "        audio_song = scaler.transform(audio_song) \n",
    "        cluster_number = kmeans.predict(audio_song)\n",
    "        recommend_cluster = playlist_final[playlist_final['cluster']== list(cluster_number)[0]]\n",
    "        rec = recommend_cluster.sample()\n",
    "        \n",
    "        print(\"Here's another recommended song:\", rec[['name','artist']])"
   ]
  },
  {
   "cell_type": "code",
   "execution_count": null,
   "id": "4481e6e1",
   "metadata": {
    "scrolled": true
   },
   "outputs": [],
   "source": [
    "recommend_song()\n"
   ]
  }
 ],
 "metadata": {
  "kernelspec": {
   "display_name": "Python 3 (ipykernel)",
   "language": "python",
   "name": "python3"
  },
  "language_info": {
   "codemirror_mode": {
    "name": "ipython",
    "version": 3
   },
   "file_extension": ".py",
   "mimetype": "text/x-python",
   "name": "python",
   "nbconvert_exporter": "python",
   "pygments_lexer": "ipython3",
   "version": "3.10.9"
  }
 },
 "nbformat": 4,
 "nbformat_minor": 5
}
